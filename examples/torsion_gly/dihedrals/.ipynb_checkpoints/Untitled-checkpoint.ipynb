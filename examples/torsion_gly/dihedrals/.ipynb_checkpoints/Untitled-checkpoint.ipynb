{
 "cells": [
  {
   "cell_type": "code",
   "execution_count": 1,
   "id": "ecd7989e",
   "metadata": {},
   "outputs": [
    {
     "name": "stdout",
     "output_type": "stream",
     "text": [
      "['AmbTrs', 'C', 'CT', 'N3', 'H', '0', '180', '0', '0', '0.00', '25.63', '0.00', '0.', '6.0']\n",
      "['AmbTrs', 'CT', 'C', 'OH', 'HO', '0', '180', '0', '0', '0.00', '9691.61', '0.00', '0.', '2.0']\n",
      "['AmbTrs', 'HC', 'CT', 'N3', 'H', '0', '0', '0', '0', '0.00', '16.93', '0.00', '0.', '6.0']\n",
      "['AmbTrs', 'O2', 'C', 'CT', 'HC', '0', '0', '0', '0', '0.00', '14.50', '0.00', '0.', '6.0']\n",
      "['AmbTrs', 'O2', 'C', 'CT', 'N3', '0', '0', '0', '0', '0.00', '14.50', '0.00', '0.', '6.0']\n",
      "['AmbTrs', 'O2', 'C', 'OH', 'HO', '0', '0', '0', '0', '0.00', '18335.01', '0.00', '0.', '2.0']\n",
      "['AmbTrs', 'OH', 'C', 'CT', 'HC', '0', '0', '0', '0', '0.00', '14.50', '0.00', '0.', '6.0']\n",
      "['AmbTrs', 'OH', 'C', 'CT', 'N3', '0', '0', '0', '0', '0.00', '14.50', '0.00', '0.', '6.0']\n"
     ]
    },
    {
     "data": {
      "text/plain": [
       "[None, None, None, None, None, None, None, None]"
      ]
     },
     "execution_count": 1,
     "metadata": {},
     "output_type": "execute_result"
    }
   ],
   "source": [
    "content = '''AmbTrs C CT N3 H 0 180 0 0 0.00 25.63 0.00 0. 6.0\n",
    "AmbTrs CT C OH HO 0 180 0 0 0.00 9691.61 0.00 0. 2.0\n",
    "AmbTrs HC CT N3 H 0 0 0 0 0.00 16.93 0.00 0. 6.0\n",
    "AmbTrs O2 C CT HC 0 0 0 0 0.00 14.50 0.00 0. 6.0\n",
    "AmbTrs O2 C CT N3 0 0 0 0 0.00 14.50 0.00 0. 6.0\n",
    "AmbTrs O2 C OH HO 0 0 0 0 0.00 18335.01 0.00 0. 2.0\n",
    "AmbTrs OH C CT HC 0 0 0 0 0.00 14.50 0.00 0. 6.0\n",
    "AmbTrs OH C CT N3 0 0 0 0 0.00 14.50 0.00 0. 6.0'''\n",
    "content_list = content.split('\\n')\n",
    "\n",
    "# Split each item of the list into a sublist based on space delimiter\n",
    "split_content = [item.split() for item in content_list]\n",
    "[print(i) for i in split_content]"
   ]
  },
  {
   "cell_type": "code",
   "execution_count": 13,
   "id": "37c3e114",
   "metadata": {},
   "outputs": [
    {
     "data": {
      "text/plain": [
       "([['C', 'CT', 'N3', 'H'],\n",
       "  ['HC', 'CT', 'N3', 'H'],\n",
       "  ['OH', 'C', 'CT', 'HC'],\n",
       "  ['O2', 'C', 'OH', 'HO'],\n",
       "  ['CT', 'C', 'OH', 'HO'],\n",
       "  ['OH', 'C', 'CT', 'N3']],\n",
       " ['C CT N3 H',\n",
       "  'HC CT N3 H',\n",
       "  'OH C CT HC',\n",
       "  'O2 C OH HO',\n",
       "  'CT C OH HO',\n",
       "  'OH C CT N3'])"
      ]
     },
     "execution_count": 13,
     "metadata": {},
     "output_type": "execute_result"
    }
   ],
   "source": [
    "replace_list = ['C CT N3 H', 'HC CT N3 H', 'OH C CT HC', 'O2 C OH HO', 'CT C OH HO', 'OH C CT N3']\n",
    "rep_sublist = [ i.split(' ') for i in replace_list]\n",
    "rep_sublist, replace_list"
   ]
  },
  {
   "cell_type": "code",
   "execution_count": 3,
   "id": "fcc7688f",
   "metadata": {},
   "outputs": [
    {
     "name": "stdout",
     "output_type": "stream",
     "text": [
      "[0. 1. 0. 0.]\n",
      "[0. 1. 0. 0.]\n",
      "[0. 1. 0. 0.]\n",
      "[0. 1. 0. 0.]\n",
      "[0. 1. 0. 0.]\n",
      "[0. 1. 0. 0.]\n",
      "[0. 1. 0. 0.]\n",
      "[0. 1. 0. 0.]\n"
     ]
    }
   ],
   "source": [
    "import numpy as np\n",
    "\n",
    "for idx, line in enumerate(split_content):\n",
    "    arr_tmp = np.asarray(split_content[idx][9:13])\n",
    "    arr_float = arr_tmp.astype(float)\n",
    "    # Replace elements different from 0.0 with 1.0\n",
    "    arr_float[arr_float != 0.0] = 1.0\n",
    "    print(arr_float)"
   ]
  },
  {
   "cell_type": "code",
   "execution_count": 14,
   "id": "0c0301db",
   "metadata": {},
   "outputs": [
    {
     "name": "stdout",
     "output_type": "stream",
     "text": [
      "['C', 'CT', 'N3', 'H'] ['C', 'CT', 'N3', 'H'] [0. 1. 0. 0.] ['0.0', '1.0', '0.0', '0.0']\n",
      "['HC', 'CT', 'N3', 'H'] ['HC', 'CT', 'N3', 'H'] [0. 1. 0. 0.] ['0.0', '1.0', '0.0', '0.0']\n",
      "['OH', 'C', 'CT', 'HC'] ['OH', 'C', 'CT', 'HC'] [0. 1. 0. 0.] ['0.0', '1.0', '0.0', '0.0']\n",
      "['O2', 'C', 'OH', 'HO'] ['O2', 'C', 'OH', 'HO'] [0. 1. 0. 0.] ['0.0', '1.0', '0.0', '0.0']\n",
      "['CT', 'C', 'OH', 'HO'] ['CT', 'C', 'OH', 'HO'] [0. 1. 0. 0.] ['0.0', '1.0', '0.0', '0.0']\n",
      "['OH', 'C', 'CT', 'N3'] ['OH', 'C', 'CT', 'N3'] [0. 1. 0. 0.] ['0.0', '1.0', '0.0', '0.0']\n",
      "['AmbTrs', 'C', 'CT', 'N3', 'H', '0', '180', '0', '0', '0.0', '1.0', '0.0', '0.0', '6.0']\n",
      "['AmbTrs', 'CT', 'C', 'OH', 'HO', '0', '180', '0', '0', '0.0', '1.0', '0.0', '0.0', '2.0']\n",
      "['AmbTrs', 'HC', 'CT', 'N3', 'H', '0', '0', '0', '0', '0.0', '1.0', '0.0', '0.0', '6.0']\n",
      "['AmbTrs', 'O2', 'C', 'CT', 'HC', '0', '0', '0', '0', '0.00', '14.50', '0.00', '0.', '6.0']\n",
      "['AmbTrs', 'O2', 'C', 'CT', 'N3', '0', '0', '0', '0', '0.00', '14.50', '0.00', '0.', '6.0']\n",
      "['AmbTrs', 'O2', 'C', 'OH', 'HO', '0', '0', '0', '0', '0.0', '1.0', '0.0', '0.0', '2.0']\n",
      "['AmbTrs', 'OH', 'C', 'CT', 'HC', '0', '0', '0', '0', '0.0', '1.0', '0.0', '0.0', '6.0']\n",
      "['AmbTrs', 'OH', 'C', 'CT', 'N3', '0', '0', '0', '0', '0.0', '1.0', '0.0', '0.0', '6.0']\n"
     ]
    },
    {
     "data": {
      "text/plain": [
       "[None, None, None, None, None, None, None, None]"
      ]
     },
     "execution_count": 14,
     "metadata": {},
     "output_type": "execute_result"
    }
   ],
   "source": [
    "tors_list =[]\n",
    "for idx, replace_item in enumerate(rep_sublist):\n",
    "    for line_idx, line in enumerate(split_content):\n",
    "        if line[1:5] == replace_item:\n",
    "           # print(line[1:5], replace_item, split_content[idx][9:13]) \n",
    "            arr_tmp = np.asarray(split_content[idx][9:13])\n",
    "            arr_float = arr_tmp.astype(float)\n",
    "            ## Replace elements different from 0.0 with 1.0\n",
    "            arr_float[arr_float != 0.0] = 1.0\n",
    "            print(line[1:5], replace_item, arr_float, split_content[line_idx][9:13])\n",
    "            str_type = arr_float.astype(str)\n",
    "            \n",
    "           # Replace the line with your desired replacement string or line\n",
    "            split_content[line_idx][9:13] = list(str_type)\n",
    "            break\n",
    "\n",
    "[print(i) for i in split_content]\n",
    "#updated_content = ' '.join(split_content)\n",
    "#print(updated_content)"
   ]
  }
 ],
 "metadata": {
  "kernelspec": {
   "display_name": "Python 3 (ipykernel)",
   "language": "python",
   "name": "python3"
  },
  "language_info": {
   "codemirror_mode": {
    "name": "ipython",
    "version": 3
   },
   "file_extension": ".py",
   "mimetype": "text/x-python",
   "name": "python",
   "nbconvert_exporter": "python",
   "pygments_lexer": "ipython3",
   "version": "3.8.10"
  }
 },
 "nbformat": 4,
 "nbformat_minor": 5
}
